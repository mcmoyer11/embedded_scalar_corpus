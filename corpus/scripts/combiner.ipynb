{
 "cells": [
  {
   "cell_type": "markdown",
   "metadata": {},
   "source": [
    "# Script to combine all the results from "
   ]
  },
  {
   "cell_type": "code",
   "execution_count": 1,
   "metadata": {},
   "outputs": [],
   "source": [
    "import pandas as pd\n",
    "import csv"
   ]
  },
  {
   "cell_type": "code",
   "execution_count": null,
   "metadata": {},
   "outputs": [],
   "source": []
  },
  {
   "cell_type": "code",
   "execution_count": 2,
   "metadata": {},
   "outputs": [],
   "source": [
    "s = pd.read_csv(\"../data/swbd/Sentence.t2o\",sep='\\t',\n",
    "                 header=None,\n",
    "                names=[\"TgrepID\",\"Sentence\"])"
   ]
  },
  {
   "cell_type": "code",
   "execution_count": 7,
   "metadata": {},
   "outputs": [],
   "source": [
    "pq = pd.read_csv(\"../data/swbd/PrecedingQuantifier.t2o\",sep='\\t',\n",
    "                 header=None,\n",
    "                names=[\"TgrepID\"])\n",
    "pq[\"PrecedingQuantifier\"] = 1\n",
    "\n",
    "pt = pd.read_csv(\"../data/swbd/Partitive.t2o\",sep='\\t',\n",
    "                 header=None,\n",
    "                names=[\"TgrepID\"])\n",
    "pt[\"Partitive\"] = 1\n",
    "\n",
    "sp = pd.read_csv(\"../data/swbd/SentenceParse.t2o\",sep='\\t',\n",
    "                 header=None,\n",
    "                names=[\"TgrepID\",\"SentenceParse\"])"
   ]
  },
  {
   "cell_type": "code",
   "execution_count": 10,
   "metadata": {},
   "outputs": [
    {
     "data": {
      "text/plain": [
       "4967"
      ]
     },
     "execution_count": 10,
     "metadata": {},
     "output_type": "execute_result"
    }
   ],
   "source": [
    "len(s)"
   ]
  },
  {
   "cell_type": "code",
   "execution_count": 8,
   "metadata": {},
   "outputs": [],
   "source": [
    "df = pd.concat([s,pq,pt,sp],axis=1)"
   ]
  },
  {
   "cell_type": "code",
   "execution_count": 11,
   "metadata": {},
   "outputs": [
    {
     "data": {
      "text/plain": [
       "4967"
      ]
     },
     "execution_count": 11,
     "metadata": {},
     "output_type": "execute_result"
    }
   ],
   "source": [
    "len(df)"
   ]
  },
  {
   "cell_type": "code",
   "execution_count": 12,
   "metadata": {},
   "outputs": [
    {
     "data": {
      "text/html": [
       "<div>\n",
       "<style scoped>\n",
       "    .dataframe tbody tr th:only-of-type {\n",
       "        vertical-align: middle;\n",
       "    }\n",
       "\n",
       "    .dataframe tbody tr th {\n",
       "        vertical-align: top;\n",
       "    }\n",
       "\n",
       "    .dataframe thead th {\n",
       "        text-align: right;\n",
       "    }\n",
       "</style>\n",
       "<table border=\"1\" class=\"dataframe\">\n",
       "  <thead>\n",
       "    <tr style=\"text-align: right;\">\n",
       "      <th></th>\n",
       "      <th>TgrepID</th>\n",
       "      <th>Sentence</th>\n",
       "      <th>TgrepID</th>\n",
       "      <th>PrecedingQuantifier</th>\n",
       "      <th>TgrepID</th>\n",
       "      <th>Partitive</th>\n",
       "      <th>TgrepID</th>\n",
       "      <th>SentenceParse</th>\n",
       "    </tr>\n",
       "  </thead>\n",
       "  <tbody>\n",
       "    <tr>\n",
       "      <th>0</th>\n",
       "      <td>41:21</td>\n",
       "      <td>You know , is there something else 0 we could ...</td>\n",
       "      <td>41:21</td>\n",
       "      <td>1.0</td>\n",
       "      <td>96:19</td>\n",
       "      <td>1.0</td>\n",
       "      <td>41:21</td>\n",
       "      <td>(TOP (SQ (PRN (S (NP-SBJ (PRP You)) (VP (VBP k...</td>\n",
       "    </tr>\n",
       "    <tr>\n",
       "      <th>1</th>\n",
       "      <td>53:49</td>\n",
       "      <td>and , um , she had used the walker \\[ for , \\+...</td>\n",
       "      <td>225:163</td>\n",
       "      <td>1.0</td>\n",
       "      <td>710:84</td>\n",
       "      <td>1.0</td>\n",
       "      <td>53:49</td>\n",
       "      <td>(TOP (S (CC and) (, ,) (INTJ (UH um)) (, ,) (N...</td>\n",
       "    </tr>\n",
       "    <tr>\n",
       "      <th>2</th>\n",
       "      <td>96:19</td>\n",
       "      <td>I mean , for somebody who *T*-1 \\[ is , \\+ \\] ...</td>\n",
       "      <td>291:187</td>\n",
       "      <td>1.0</td>\n",
       "      <td>862:26</td>\n",
       "      <td>1.0</td>\n",
       "      <td>96:19</td>\n",
       "      <td>(TOP (FRAG (PRN (S (NP-SBJ (PRP I)) (VP (VBP m...</td>\n",
       "    </tr>\n",
       "    <tr>\n",
       "      <th>3</th>\n",
       "      <td>157:111</td>\n",
       "      <td>I mean , \\[ \\[ \\[ \\[ \\[ I , \\+ I , \\] \\+ I , \\...</td>\n",
       "      <td>662:45</td>\n",
       "      <td>1.0</td>\n",
       "      <td>868:124</td>\n",
       "      <td>1.0</td>\n",
       "      <td>157:111</td>\n",
       "      <td>(TOP (S (PRN (S (NP-SBJ (PRP I)) (VP (VBP mean...</td>\n",
       "    </tr>\n",
       "    <tr>\n",
       "      <th>4</th>\n",
       "      <td>157:148</td>\n",
       "      <td>I mean , \\[ \\[ \\[ \\[ \\[ I , \\+ I , \\] \\+ I , \\...</td>\n",
       "      <td>668:79</td>\n",
       "      <td>1.0</td>\n",
       "      <td>905:42</td>\n",
       "      <td>1.0</td>\n",
       "      <td>157:148</td>\n",
       "      <td>(TOP (S (PRN (S (NP-SBJ (PRP I)) (VP (VBP mean...</td>\n",
       "    </tr>\n",
       "  </tbody>\n",
       "</table>\n",
       "</div>"
      ],
      "text/plain": [
       "   TgrepID                                           Sentence  TgrepID  \\\n",
       "0    41:21  You know , is there something else 0 we could ...    41:21   \n",
       "1    53:49  and , um , she had used the walker \\[ for , \\+...  225:163   \n",
       "2    96:19  I mean , for somebody who *T*-1 \\[ is , \\+ \\] ...  291:187   \n",
       "3  157:111  I mean , \\[ \\[ \\[ \\[ \\[ I , \\+ I , \\] \\+ I , \\...   662:45   \n",
       "4  157:148  I mean , \\[ \\[ \\[ \\[ \\[ I , \\+ I , \\] \\+ I , \\...   668:79   \n",
       "\n",
       "   PrecedingQuantifier  TgrepID  Partitive  TgrepID  \\\n",
       "0                  1.0    96:19        1.0    41:21   \n",
       "1                  1.0   710:84        1.0    53:49   \n",
       "2                  1.0   862:26        1.0    96:19   \n",
       "3                  1.0  868:124        1.0  157:111   \n",
       "4                  1.0   905:42        1.0  157:148   \n",
       "\n",
       "                                       SentenceParse  \n",
       "0  (TOP (SQ (PRN (S (NP-SBJ (PRP You)) (VP (VBP k...  \n",
       "1  (TOP (S (CC and) (, ,) (INTJ (UH um)) (, ,) (N...  \n",
       "2  (TOP (FRAG (PRN (S (NP-SBJ (PRP I)) (VP (VBP m...  \n",
       "3  (TOP (S (PRN (S (NP-SBJ (PRP I)) (VP (VBP mean...  \n",
       "4  (TOP (S (PRN (S (NP-SBJ (PRP I)) (VP (VBP mean...  "
      ]
     },
     "execution_count": 12,
     "metadata": {},
     "output_type": "execute_result"
    }
   ],
   "source": [
    "df.head()"
   ]
  },
  {
   "cell_type": "code",
   "execution_count": null,
   "metadata": {},
   "outputs": [],
   "source": []
  },
  {
   "cell_type": "code",
   "execution_count": 46,
   "metadata": {},
   "outputs": [],
   "source": []
  },
  {
   "cell_type": "code",
   "execution_count": null,
   "metadata": {},
   "outputs": [],
   "source": []
  },
  {
   "cell_type": "code",
   "execution_count": null,
   "metadata": {},
   "outputs": [],
   "source": []
  },
  {
   "cell_type": "code",
   "execution_count": null,
   "metadata": {},
   "outputs": [],
   "source": []
  },
  {
   "cell_type": "code",
   "execution_count": null,
   "metadata": {},
   "outputs": [],
   "source": []
  },
  {
   "cell_type": "code",
   "execution_count": 13,
   "metadata": {},
   "outputs": [
    {
     "data": {
      "text/plain": [
       "TgrepID                                                          157:148\n",
       "Sentence               I mean , \\[ \\[ \\[ \\[ \\[ I , \\+ I , \\] \\+ I , \\...\n",
       "TgrepID                                                           668:79\n",
       "PrecedingQuantifier                                                    1\n",
       "TgrepID                                                           905:42\n",
       "Partitive                                                              1\n",
       "TgrepID                                                          157:148\n",
       "SentenceParse          (TOP (S (PRN (S (NP-SBJ (PRP I)) (VP (VBP mean...\n",
       "Name: 4, dtype: object"
      ]
     },
     "execution_count": 13,
     "metadata": {},
     "output_type": "execute_result"
    }
   ],
   "source": []
  },
  {
   "cell_type": "code",
   "execution_count": null,
   "metadata": {},
   "outputs": [],
   "source": []
  }
 ],
 "metadata": {
  "kernelspec": {
   "display_name": "Python 3",
   "language": "python",
   "name": "python3"
  },
  "language_info": {
   "codemirror_mode": {
    "name": "ipython",
    "version": 3
   },
   "file_extension": ".py",
   "mimetype": "text/x-python",
   "name": "python",
   "nbconvert_exporter": "python",
   "pygments_lexer": "ipython3",
   "version": "3.8.3"
  }
 },
 "nbformat": 4,
 "nbformat_minor": 4
}
